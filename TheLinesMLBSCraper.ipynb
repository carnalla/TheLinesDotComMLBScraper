{
 "cells": [
  {
   "cell_type": "markdown",
   "metadata": {},
   "source": [
    "## Sources for this block:\n",
    "- https://stackoverflow.com/questions/42863240/how-to-get-round-the-http-error-403-forbidden-with-urllib-request-using-python\n",
    "\n",
    "## GET URL Instructions:\n",
    "\n",
    "- Go to: https://www.thelines.com/odds/mlb/\n",
    "- Right click on page, choose 'Inspect' \n",
    "- From Pane on right side, choose 'Network'\n",
    "- Choose 'Fetch/XHR'\n",
    "- Right click line item starting with 'odds.json?apiKey=', choose Copy > Copy Link Address\n",
    "- Paste link in the prompt below: "
   ]
  },
  {
   "cell_type": "code",
   "execution_count": null,
   "metadata": {},
   "outputs": [],
   "source": [
    "url = str(input('Paste URL from Above Instructions Here: '))"
   ]
  },
  {
   "cell_type": "code",
   "execution_count": null,
   "metadata": {},
   "outputs": [],
   "source": [
    "import urllib.request\n",
    "\n",
    "# Open the URL as Browser, not as python urllib\n",
    "\n",
    "page=urllib.request.Request(url,headers={'User-Agent': 'Mozilla/5.0'})\n",
    "infile=urllib.request.urlopen(page).read()\n",
    "data = infile.decode('ISO-8859-1') # Read the content as string decoded with ISO-8859-1\n",
    "\n",
    "# Print the data to the screen\n",
    "\n",
    "#print(data) "
   ]
  },
  {
   "cell_type": "markdown",
   "metadata": {},
   "source": [
    "## Sources for this block:\n",
    "\n",
    "- https://www.youtube.com/watch?v=hV5k1XbcZXA&t=606s"
   ]
  },
  {
   "cell_type": "code",
   "execution_count": null,
   "metadata": {},
   "outputs": [],
   "source": [
    "import json\n",
    "import pandas as pd\n",
    "\n",
    "data = json.loads(data)\n",
    "games = data['meta']['count']"
   ]
  },
  {
   "cell_type": "code",
   "execution_count": null,
   "metadata": {},
   "outputs": [],
   "source": [
    "colNames = ['Home/Away', 'Team', 'FanDuel ML Odds', 'DraftKings ML Odds']\n",
    "summary = pd.DataFrame(columns = colNames)\n",
    "\n",
    "def get_amOdds(decimal):\n",
    "    \n",
    "    if decimal >= 2: amOdds = (decimal - 1) * 100\n",
    "    if decimal < 2: amOdds = -100 / (decimal -1)\n",
    "        \n",
    "    return amOdds\n",
    "\n",
    "for game in range(0, games):\n",
    "\n",
    "    gameID = data['results'][game]['gameID']\n",
    "    visTem = data['results'][game]['team1Name']\n",
    "    homTem = data['results'][game]['team2Name']\n",
    "\n",
    "    book = data['results'][game]['odds']\n",
    "\n",
    "    DKbook = next((sub for sub in book if sub['provider'] == 'DRAFTKINGS'), None)\n",
    "    FDbook = next((sub for sub in book if sub['provider'] == 'FANDUEL'), None)\n",
    "\n",
    "    if bool(DKbook) == True:\n",
    "    \n",
    "        DKvisML = round(get_amOdds(DKbook['moneyLine1']))\n",
    "        DKhomML = round(get_amOdds(DKbook['moneyLine2']))\n",
    "\n",
    "    else:\n",
    "        \n",
    "        DKvisML = str('-')\n",
    "        DKhomML = str('-')\n",
    "        \n",
    "    if bool(FDbook) == True:\n",
    "        \n",
    "        FDvisML = round(get_amOdds(FDbook['moneyLine1']))\n",
    "        FDhomML = round(get_amOdds(FDbook['moneyLine2']))\n",
    "\n",
    "    else:\n",
    "\n",
    "        FDvisML = str('-')\n",
    "        FDhomML = str('-')\n",
    "\n",
    "    summary.loc[len(summary)] = [str('Visitor'), visTem, FDvisML, DKvisML]\n",
    "    summary.loc[len(summary)] = [str('Home'), homTem, FDhomML, DKhomML]\n",
    "    \n",
    "summary"
   ]
  }
 ],
 "metadata": {
  "kernelspec": {
   "display_name": "Python 3",
   "language": "python",
   "name": "python3"
  },
  "language_info": {
   "codemirror_mode": {
    "name": "ipython",
    "version": 3
   },
   "file_extension": ".py",
   "mimetype": "text/x-python",
   "name": "python",
   "nbconvert_exporter": "python",
   "pygments_lexer": "ipython3",
   "version": "3.8.5"
  }
 },
 "nbformat": 4,
 "nbformat_minor": 4
}
